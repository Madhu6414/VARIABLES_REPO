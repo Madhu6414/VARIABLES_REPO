{
 "cells": [
  {
   "cell_type": "markdown",
   "id": "99fa550e",
   "metadata": {},
   "source": [
    "# variables"
   ]
  },
  {
   "cell_type": "markdown",
   "id": "06b6a82f",
   "metadata": {},
   "source": [
    "### varible name should not have space"
   ]
  },
  {
   "cell_type": "code",
   "execution_count": 5,
   "id": "ca0e5ff1",
   "metadata": {},
   "outputs": [
    {
     "ename": "SyntaxError",
     "evalue": "invalid syntax (4145220829.py, line 1)",
     "output_type": "error",
     "traceback": [
      "\u001b[1;36m  Cell \u001b[1;32mIn[5], line 1\u001b[1;36m\u001b[0m\n\u001b[1;33m    name lists=\"madhu\",\"nimma\"\u001b[0m\n\u001b[1;37m         ^\u001b[0m\n\u001b[1;31mSyntaxError\u001b[0m\u001b[1;31m:\u001b[0m invalid syntax\n"
     ]
    }
   ],
   "source": [
    "name lists=\"madhu\",\"nimma\"\n",
    "name lists"
   ]
  },
  {
   "cell_type": "markdown",
   "id": "c5fbef24",
   "metadata": {},
   "source": [
    "### variable name shouid not start with a number"
   ]
  },
  {
   "cell_type": "code",
   "execution_count": 6,
   "id": "2b804d5e",
   "metadata": {},
   "outputs": [
    {
     "ename": "SyntaxError",
     "evalue": "invalid decimal literal (1596886128.py, line 1)",
     "output_type": "error",
     "traceback": [
      "\u001b[1;36m  Cell \u001b[1;32mIn[6], line 1\u001b[1;36m\u001b[0m\n\u001b[1;33m    2names=\"madhu\",\"nimma\"\u001b[0m\n\u001b[1;37m    ^\u001b[0m\n\u001b[1;31mSyntaxError\u001b[0m\u001b[1;31m:\u001b[0m invalid decimal literal\n"
     ]
    }
   ],
   "source": [
    "2names=\"madhu\",\"nimma\"\n",
    "2names"
   ]
  },
  {
   "cell_type": "markdown",
   "id": "3eff1f97",
   "metadata": {},
   "source": [
    "### the only allowed special character is underscore"
   ]
  },
  {
   "cell_type": "code",
   "execution_count": 11,
   "id": "05a5f66f",
   "metadata": {},
   "outputs": [
    {
     "data": {
      "text/plain": [
       "'nimma'"
      ]
     },
     "execution_count": 11,
     "metadata": {},
     "output_type": "execute_result"
    }
   ],
   "source": [
    "_name=\"nimma\"\n",
    "_name"
   ]
  },
  {
   "cell_type": "code",
   "execution_count": 12,
   "id": "da153da1",
   "metadata": {},
   "outputs": [
    {
     "data": {
      "text/plain": [
       "('madhu', 'dhoni')"
      ]
     },
     "execution_count": 12,
     "metadata": {},
     "output_type": "execute_result"
    }
   ],
   "source": [
    "name_lists=\"madhu\",\"dhoni\"\n",
    "name_lists"
   ]
  },
  {
   "cell_type": "code",
   "execution_count": 13,
   "id": "93c44eb4",
   "metadata": {},
   "outputs": [
    {
     "ename": "SyntaxError",
     "evalue": "cannot assign to expression here. Maybe you meant '==' instead of '='? (4028418006.py, line 1)",
     "output_type": "error",
     "traceback": [
      "\u001b[1;36m  Cell \u001b[1;32mIn[13], line 1\u001b[1;36m\u001b[0m\n\u001b[1;33m    name+lists=\"madhu\",\"nimma\"\u001b[0m\n\u001b[1;37m    ^\u001b[0m\n\u001b[1;31mSyntaxError\u001b[0m\u001b[1;31m:\u001b[0m cannot assign to expression here. Maybe you meant '==' instead of '='?\n"
     ]
    }
   ],
   "source": [
    "name+lists=\"madhu\",\"nimma\"\n",
    "name+lists"
   ]
  },
  {
   "cell_type": "code",
   "execution_count": null,
   "id": "39b9ee3c",
   "metadata": {},
   "outputs": [],
   "source": []
  }
 ],
 "metadata": {
  "kernelspec": {
   "display_name": "Python 3 (ipykernel)",
   "language": "python",
   "name": "python3"
  },
  "language_info": {
   "codemirror_mode": {
    "name": "ipython",
    "version": 3
   },
   "file_extension": ".py",
   "mimetype": "text/x-python",
   "name": "python",
   "nbconvert_exporter": "python",
   "pygments_lexer": "ipython3",
   "version": "3.11.5"
  }
 },
 "nbformat": 4,
 "nbformat_minor": 5
}
